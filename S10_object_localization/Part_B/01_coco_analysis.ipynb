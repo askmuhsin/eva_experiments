{
 "cells": [
  {
   "cell_type": "code",
   "execution_count": 1,
   "metadata": {},
   "outputs": [],
   "source": [
    "def parse_line(text, keys_to_extract=['bbox', 'width', 'height', 'id']):\n",
    "    \"\"\"\n",
    "    turns a non quote json content to dict\n",
    "    eg:\n",
    "        'id: 0, height: 330, width: 1093, bbox:[69, 464, 312, 175],'\n",
    "        to\n",
    "        {'bbox': [69, 464, 312, 175], 'width': 1093, 'height': 330, 'id': 0}\n",
    "    Arguments:\n",
    "        text: str, the content to be extracted\n",
    "        keys_to_extract: list, the expected keys in the content, ⚠️ in reverse order!\n",
    "    Returns:\n",
    "        parsed_content: dict\n",
    "    \"\"\"\n",
    "    parsed_content = {}\n",
    "    start = None\n",
    "    for key_name in keys_to_extract:\n",
    "        stop, start = start, text.index(key_name)\n",
    "        content = text[start:stop].strip(', ')\n",
    "        k, v = [x.strip(' ') for x in content.split(':')]\n",
    "        parsed_content[k] = eval(v)\n",
    "    return parsed_content"
   ]
  },
  {
   "cell_type": "code",
   "execution_count": 2,
   "metadata": {
    "ExecuteTime": {
     "end_time": "2021-07-18T16:00:00.833470Z",
     "start_time": "2021-07-18T16:00:00.522149Z"
    }
   },
   "outputs": [],
   "source": [
    "with open('./sample_coco.txt', 'r') as f:\n",
    "    coco_data = [parse_line(x.strip()) for x in f.readlines()]"
   ]
  },
  {
   "cell_type": "code",
   "execution_count": 3,
   "metadata": {},
   "outputs": [],
   "source": [
    "import pandas as pd"
   ]
  },
  {
   "cell_type": "code",
   "execution_count": 4,
   "metadata": {},
   "outputs": [],
   "source": [
    "df = pd.DataFrame(coco_data)"
   ]
  },
  {
   "cell_type": "code",
   "execution_count": 26,
   "metadata": {},
   "outputs": [
    {
     "data": {
      "text/html": [
       "<div>\n",
       "<style scoped>\n",
       "    .dataframe tbody tr th:only-of-type {\n",
       "        vertical-align: middle;\n",
       "    }\n",
       "\n",
       "    .dataframe tbody tr th {\n",
       "        vertical-align: top;\n",
       "    }\n",
       "\n",
       "    .dataframe thead th {\n",
       "        text-align: right;\n",
       "    }\n",
       "</style>\n",
       "<table border=\"1\" class=\"dataframe\">\n",
       "  <thead>\n",
       "    <tr style=\"text-align: right;\">\n",
       "      <th></th>\n",
       "      <th>bbox</th>\n",
       "      <th>width</th>\n",
       "      <th>height</th>\n",
       "      <th>id</th>\n",
       "    </tr>\n",
       "  </thead>\n",
       "  <tbody>\n",
       "    <tr>\n",
       "      <th>0</th>\n",
       "      <td>[69, 464, 312, 175]</td>\n",
       "      <td>1093</td>\n",
       "      <td>330</td>\n",
       "      <td>0</td>\n",
       "    </tr>\n",
       "    <tr>\n",
       "      <th>1</th>\n",
       "      <td>[359, 292, 83, 199]</td>\n",
       "      <td>439</td>\n",
       "      <td>782</td>\n",
       "      <td>1</td>\n",
       "    </tr>\n",
       "    <tr>\n",
       "      <th>2</th>\n",
       "      <td>[297, 312, 267, 167]</td>\n",
       "      <td>831</td>\n",
       "      <td>645</td>\n",
       "      <td>3</td>\n",
       "    </tr>\n",
       "    <tr>\n",
       "      <th>3</th>\n",
       "      <td>[275, 112, 319, 290]</td>\n",
       "      <td>608</td>\n",
       "      <td>943</td>\n",
       "      <td>34</td>\n",
       "    </tr>\n",
       "    <tr>\n",
       "      <th>4</th>\n",
       "      <td>[71, 368, 146, 147]</td>\n",
       "      <td>857</td>\n",
       "      <td>593</td>\n",
       "      <td>20</td>\n",
       "    </tr>\n",
       "    <tr>\n",
       "      <th>...</th>\n",
       "      <td>...</td>\n",
       "      <td>...</td>\n",
       "      <td>...</td>\n",
       "      <td>...</td>\n",
       "    </tr>\n",
       "    <tr>\n",
       "      <th>10100</th>\n",
       "      <td>[62, 129, 234, 142]</td>\n",
       "      <td>550</td>\n",
       "      <td>285</td>\n",
       "      <td>2</td>\n",
       "    </tr>\n",
       "    <tr>\n",
       "      <th>10101</th>\n",
       "      <td>[389, 78, 140, 158]</td>\n",
       "      <td>340</td>\n",
       "      <td>735</td>\n",
       "      <td>37</td>\n",
       "    </tr>\n",
       "    <tr>\n",
       "      <th>10102</th>\n",
       "      <td>[359, 240, 297, 258]</td>\n",
       "      <td>665</td>\n",
       "      <td>677</td>\n",
       "      <td>15</td>\n",
       "    </tr>\n",
       "    <tr>\n",
       "      <th>10103</th>\n",
       "      <td>[95, 168, 271, 138]</td>\n",
       "      <td>653</td>\n",
       "      <td>474</td>\n",
       "      <td>69</td>\n",
       "    </tr>\n",
       "    <tr>\n",
       "      <th>10104</th>\n",
       "      <td>[378, 46, 320, 279]</td>\n",
       "      <td>509</td>\n",
       "      <td>862</td>\n",
       "      <td>62</td>\n",
       "    </tr>\n",
       "  </tbody>\n",
       "</table>\n",
       "<p>10105 rows × 4 columns</p>\n",
       "</div>"
      ],
      "text/plain": [
       "                       bbox  width  height  id\n",
       "0       [69, 464, 312, 175]   1093     330   0\n",
       "1       [359, 292, 83, 199]    439     782   1\n",
       "2      [297, 312, 267, 167]    831     645   3\n",
       "3      [275, 112, 319, 290]    608     943  34\n",
       "4       [71, 368, 146, 147]    857     593  20\n",
       "...                     ...    ...     ...  ..\n",
       "10100   [62, 129, 234, 142]    550     285   2\n",
       "10101   [389, 78, 140, 158]    340     735  37\n",
       "10102  [359, 240, 297, 258]    665     677  15\n",
       "10103   [95, 168, 271, 138]    653     474  69\n",
       "10104   [378, 46, 320, 279]    509     862  62\n",
       "\n",
       "[10105 rows x 4 columns]"
      ]
     },
     "execution_count": 26,
     "metadata": {},
     "output_type": "execute_result"
    }
   ],
   "source": [
    "df"
   ]
  },
  {
   "cell_type": "code",
   "execution_count": 28,
   "metadata": {},
   "outputs": [
    {
     "name": "stdout",
     "output_type": "stream",
     "text": [
      "Archive:  annotations_trainval2014.zip\n",
      "  inflating: annotations/instances_train2014.json  \n",
      "  inflating: annotations/instances_val2014.json  \n",
      "  inflating: annotations/person_keypoints_train2014.json  \n",
      "  inflating: annotations/person_keypoints_val2014.json  \n",
      "  inflating: annotations/captions_train2014.json  \n",
      "  inflating: annotations/captions_val2014.json  \n"
     ]
    }
   ],
   "source": [
    "# ! wget http://images.cocodataset.org/annotations/annotations_trainval2014.zip\n",
    "# ! unzip annotations_trainval2014.zip"
   ]
  },
  {
   "cell_type": "code",
   "execution_count": null,
   "metadata": {},
   "outputs": [],
   "source": [
    "## create Category mapping\n",
    "# ! wget http://images.cocodataset.org/annotations/annotations_trainval2014.zip\n",
    "# ! unzip annotations_trainval2014.zip"
   ]
  },
  {
   "cell_type": "code",
   "execution_count": 41,
   "metadata": {},
   "outputs": [],
   "source": [
    "import json\n",
    "\n",
    "ins_train = json.load(open('./annotations/instances_train2014.json', 'r'))\n",
    "categories = ins_train['categories']\n",
    "category_mapping = {r['id'] - 1:r['name'] for r in categories}\n",
    "with open('./category_mapping.json', 'w') as fw:\n",
    "    json.dump(category_mapping, fw)"
   ]
  },
  {
   "cell_type": "code",
   "execution_count": 43,
   "metadata": {},
   "outputs": [],
   "source": [
    "! rm -rf ./annotations/"
   ]
  },
  {
   "cell_type": "code",
   "execution_count": 44,
   "metadata": {},
   "outputs": [
    {
     "name": "stdout",
     "output_type": "stream",
     "text": [
      "01_coco_analysis.ipynb\tcategory_mapping.json  README.md  sample_coco.txt\r\n"
     ]
    }
   ],
   "source": [
    "! ls"
   ]
  },
  {
   "cell_type": "code",
   "execution_count": null,
   "metadata": {},
   "outputs": [],
   "source": []
  }
 ],
 "metadata": {
  "kernelspec": {
   "display_name": "Python3.8",
   "language": "python",
   "name": "python3.8"
  },
  "language_info": {
   "codemirror_mode": {
    "name": "ipython",
    "version": 3
   },
   "file_extension": ".py",
   "mimetype": "text/x-python",
   "name": "python",
   "nbconvert_exporter": "python",
   "pygments_lexer": "ipython3",
   "version": "3.8.2"
  }
 },
 "nbformat": 4,
 "nbformat_minor": 2
}
