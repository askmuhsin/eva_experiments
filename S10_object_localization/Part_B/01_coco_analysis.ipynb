{
 "cells": [
  {
   "cell_type": "code",
   "execution_count": 1,
   "metadata": {
    "ExecuteTime": {
     "end_time": "2021-07-23T14:25:35.335835Z",
     "start_time": "2021-07-23T14:25:34.187990Z"
    }
   },
   "outputs": [],
   "source": [
    "from collections import Counter\n",
    "import matplotlib.pyplot as plt\n",
    "import pandas as pd\n",
    "import json"
   ]
  },
  {
   "cell_type": "markdown",
   "metadata": {},
   "source": [
    "# Explore COCO Annotations"
   ]
  },
  {
   "cell_type": "code",
   "execution_count": 2,
   "metadata": {
    "ExecuteTime": {
     "end_time": "2021-07-23T14:26:44.597751Z",
     "start_time": "2021-07-23T14:26:44.594416Z"
    }
   },
   "outputs": [],
   "source": [
    "## To download the coco annotations\n",
    "\n",
    "# ! wget http://images.cocodataset.org/annotations/annotations_trainval2014.zip\n",
    "# ! unzip annotations_trainval2014.zip"
   ]
  },
  {
   "cell_type": "code",
   "execution_count": 4,
   "metadata": {
    "ExecuteTime": {
     "end_time": "2021-07-23T14:27:56.472458Z",
     "start_time": "2021-07-23T14:27:26.226680Z"
    }
   },
   "outputs": [],
   "source": [
    "ins_train = json.load(open('./annotations/instances_train2017.json', 'r'))"
   ]
  },
  {
   "cell_type": "code",
   "execution_count": 5,
   "metadata": {
    "ExecuteTime": {
     "end_time": "2021-07-23T14:28:00.475657Z",
     "start_time": "2021-07-23T14:28:00.471646Z"
    }
   },
   "outputs": [],
   "source": [
    "## Clean up the files\n",
    "\n",
    "# ! rm -rf ./annotations/\n",
    "# ! rm annotations_trainval2014.zip"
   ]
  },
  {
   "cell_type": "code",
   "execution_count": 46,
   "metadata": {
    "code_folding": []
   },
   "outputs": [],
   "source": [
    "## checkout the README of this part to find out how the mapping was obtained\n",
    "\n",
    "# with open('./category_mapping.json', 'r') as f:\n",
    "#     category_mapping = json.load(f)"
   ]
  },
  {
   "cell_type": "code",
   "execution_count": 6,
   "metadata": {
    "ExecuteTime": {
     "end_time": "2021-07-23T14:28:47.036896Z",
     "start_time": "2021-07-23T14:28:47.017533Z"
    }
   },
   "outputs": [
    {
     "data": {
      "text/plain": [
       "dict_keys(['info', 'licenses', 'images', 'annotations', 'categories'])"
      ]
     },
     "execution_count": 6,
     "metadata": {},
     "output_type": "execute_result"
    }
   ],
   "source": [
    "## top level keys\n",
    "ins_train.keys()"
   ]
  },
  {
   "cell_type": "code",
   "execution_count": null,
   "metadata": {},
   "outputs": [],
   "source": []
  },
  {
   "cell_type": "markdown",
   "metadata": {},
   "source": [
    "## `categories`"
   ]
  },
  {
   "cell_type": "code",
   "execution_count": 7,
   "metadata": {
    "ExecuteTime": {
     "end_time": "2021-07-23T14:29:30.587702Z",
     "start_time": "2021-07-23T14:29:30.582155Z"
    }
   },
   "outputs": [
    {
     "data": {
      "text/plain": [
       "(80, {'supercategory': 'person', 'id': 1, 'name': 'person'})"
      ]
     },
     "execution_count": 7,
     "metadata": {},
     "output_type": "execute_result"
    }
   ],
   "source": [
    "len(ins_train['categories']), ins_train['categories'][0]"
   ]
  },
  {
   "cell_type": "code",
   "execution_count": 8,
   "metadata": {
    "ExecuteTime": {
     "end_time": "2021-07-23T14:29:37.484815Z",
     "start_time": "2021-07-23T14:29:37.469478Z"
    },
    "collapsed": true
   },
   "outputs": [
    {
     "data": {
      "text/plain": [
       "{1: 'person',\n",
       " 2: 'bicycle',\n",
       " 3: 'car',\n",
       " 4: 'motorcycle',\n",
       " 5: 'airplane',\n",
       " 6: 'bus',\n",
       " 7: 'train',\n",
       " 8: 'truck',\n",
       " 9: 'boat',\n",
       " 10: 'traffic light',\n",
       " 11: 'fire hydrant',\n",
       " 13: 'stop sign',\n",
       " 14: 'parking meter',\n",
       " 15: 'bench',\n",
       " 16: 'bird',\n",
       " 17: 'cat',\n",
       " 18: 'dog',\n",
       " 19: 'horse',\n",
       " 20: 'sheep',\n",
       " 21: 'cow',\n",
       " 22: 'elephant',\n",
       " 23: 'bear',\n",
       " 24: 'zebra',\n",
       " 25: 'giraffe',\n",
       " 27: 'backpack',\n",
       " 28: 'umbrella',\n",
       " 31: 'handbag',\n",
       " 32: 'tie',\n",
       " 33: 'suitcase',\n",
       " 34: 'frisbee',\n",
       " 35: 'skis',\n",
       " 36: 'snowboard',\n",
       " 37: 'sports ball',\n",
       " 38: 'kite',\n",
       " 39: 'baseball bat',\n",
       " 40: 'baseball glove',\n",
       " 41: 'skateboard',\n",
       " 42: 'surfboard',\n",
       " 43: 'tennis racket',\n",
       " 44: 'bottle',\n",
       " 46: 'wine glass',\n",
       " 47: 'cup',\n",
       " 48: 'fork',\n",
       " 49: 'knife',\n",
       " 50: 'spoon',\n",
       " 51: 'bowl',\n",
       " 52: 'banana',\n",
       " 53: 'apple',\n",
       " 54: 'sandwich',\n",
       " 55: 'orange',\n",
       " 56: 'broccoli',\n",
       " 57: 'carrot',\n",
       " 58: 'hot dog',\n",
       " 59: 'pizza',\n",
       " 60: 'donut',\n",
       " 61: 'cake',\n",
       " 62: 'chair',\n",
       " 63: 'couch',\n",
       " 64: 'potted plant',\n",
       " 65: 'bed',\n",
       " 67: 'dining table',\n",
       " 70: 'toilet',\n",
       " 72: 'tv',\n",
       " 73: 'laptop',\n",
       " 74: 'mouse',\n",
       " 75: 'remote',\n",
       " 76: 'keyboard',\n",
       " 77: 'cell phone',\n",
       " 78: 'microwave',\n",
       " 79: 'oven',\n",
       " 80: 'toaster',\n",
       " 81: 'sink',\n",
       " 82: 'refrigerator',\n",
       " 84: 'book',\n",
       " 85: 'clock',\n",
       " 86: 'vase',\n",
       " 87: 'scissors',\n",
       " 88: 'teddy bear',\n",
       " 89: 'hair drier',\n",
       " 90: 'toothbrush'}"
      ]
     },
     "execution_count": 8,
     "metadata": {},
     "output_type": "execute_result"
    }
   ],
   "source": [
    "categories = ins_train['categories']\n",
    "category_mapping = {r['id']:r['name'] for r in categories}\n",
    "\n",
    "## to store mapping locally\n",
    "# with open('./coco_category_mapping.json', 'w') as fw:\n",
    "#     json.dump(category_mapping, fw)\n",
    "\n",
    "category_mapping"
   ]
  },
  {
   "cell_type": "markdown",
   "metadata": {},
   "source": [
    "## `annotations`"
   ]
  },
  {
   "cell_type": "code",
   "execution_count": 12,
   "metadata": {
    "ExecuteTime": {
     "end_time": "2021-07-23T14:30:51.504006Z",
     "start_time": "2021-07-23T14:30:51.496364Z"
    },
    "scrolled": true
   },
   "outputs": [
    {
     "data": {
      "text/plain": [
       "(860001,\n",
       " {'segmentation': [[239.97,\n",
       "    260.24,\n",
       "    222.04,\n",
       "    270.49,\n",
       "    199.84,\n",
       "    253.41,\n",
       "    213.5,\n",
       "    227.79,\n",
       "    259.62,\n",
       "    200.46,\n",
       "    274.13,\n",
       "    202.17,\n",
       "    277.55,\n",
       "    210.71,\n",
       "    249.37,\n",
       "    253.41,\n",
       "    237.41,\n",
       "    264.51,\n",
       "    242.54,\n",
       "    261.95,\n",
       "    228.87,\n",
       "    271.34]],\n",
       "  'area': 2765.1486500000005,\n",
       "  'iscrowd': 0,\n",
       "  'image_id': 558840,\n",
       "  'bbox': [199.84, 200.46, 77.71, 70.88],\n",
       "  'category_id': 58,\n",
       "  'id': 156})"
      ]
     },
     "execution_count": 12,
     "metadata": {},
     "output_type": "execute_result"
    }
   ],
   "source": [
    "len(ins_train['annotations']), ins_train['annotations'][0]"
   ]
  },
  {
   "cell_type": "code",
   "execution_count": 10,
   "metadata": {
    "ExecuteTime": {
     "end_time": "2021-07-23T14:30:25.838029Z",
     "start_time": "2021-07-23T14:30:25.795064Z"
    }
   },
   "outputs": [
    {
     "data": {
      "text/plain": [
       "118287"
      ]
     },
     "execution_count": 10,
     "metadata": {},
     "output_type": "execute_result"
    }
   ],
   "source": [
    "all_image_ids = [x['id'] for x in ins_train['images']]\n",
    "len(all_image_ids)"
   ]
  },
  {
   "cell_type": "code",
   "execution_count": 11,
   "metadata": {
    "ExecuteTime": {
     "end_time": "2021-07-23T14:30:41.082142Z",
     "start_time": "2021-07-23T14:30:38.156283Z"
    }
   },
   "outputs": [
    {
     "data": {
      "text/html": [
       "<div>\n",
       "<style scoped>\n",
       "    .dataframe tbody tr th:only-of-type {\n",
       "        vertical-align: middle;\n",
       "    }\n",
       "\n",
       "    .dataframe tbody tr th {\n",
       "        vertical-align: top;\n",
       "    }\n",
       "\n",
       "    .dataframe thead th {\n",
       "        text-align: right;\n",
       "    }\n",
       "</style>\n",
       "<table border=\"1\" class=\"dataframe\">\n",
       "  <thead>\n",
       "    <tr style=\"text-align: right;\">\n",
       "      <th></th>\n",
       "      <th>x</th>\n",
       "      <th>y</th>\n",
       "      <th>width</th>\n",
       "      <th>height</th>\n",
       "    </tr>\n",
       "  </thead>\n",
       "  <tbody>\n",
       "    <tr>\n",
       "      <th>count</th>\n",
       "      <td>860001.000000</td>\n",
       "      <td>860001.000000</td>\n",
       "      <td>860001.000000</td>\n",
       "      <td>860001.000000</td>\n",
       "    </tr>\n",
       "    <tr>\n",
       "      <th>mean</th>\n",
       "      <td>243.461816</td>\n",
       "      <td>193.013263</td>\n",
       "      <td>103.894745</td>\n",
       "      <td>107.418773</td>\n",
       "    </tr>\n",
       "    <tr>\n",
       "      <th>std</th>\n",
       "      <td>169.405320</td>\n",
       "      <td>119.673263</td>\n",
       "      <td>127.618042</td>\n",
       "      <td>114.852586</td>\n",
       "    </tr>\n",
       "    <tr>\n",
       "      <th>min</th>\n",
       "      <td>0.000000</td>\n",
       "      <td>0.000000</td>\n",
       "      <td>0.230000</td>\n",
       "      <td>0.000000</td>\n",
       "    </tr>\n",
       "    <tr>\n",
       "      <th>25%</th>\n",
       "      <td>99.240000</td>\n",
       "      <td>103.330000</td>\n",
       "      <td>23.210000</td>\n",
       "      <td>27.720000</td>\n",
       "    </tr>\n",
       "    <tr>\n",
       "      <th>50%</th>\n",
       "      <td>230.820000</td>\n",
       "      <td>186.910000</td>\n",
       "      <td>54.140000</td>\n",
       "      <td>62.340000</td>\n",
       "    </tr>\n",
       "    <tr>\n",
       "      <th>75%</th>\n",
       "      <td>370.500000</td>\n",
       "      <td>269.850000</td>\n",
       "      <td>128.500000</td>\n",
       "      <td>144.970000</td>\n",
       "    </tr>\n",
       "    <tr>\n",
       "      <th>max</th>\n",
       "      <td>638.340000</td>\n",
       "      <td>635.130000</td>\n",
       "      <td>640.000000</td>\n",
       "      <td>640.000000</td>\n",
       "    </tr>\n",
       "  </tbody>\n",
       "</table>\n",
       "</div>"
      ],
      "text/plain": [
       "                   x              y          width         height\n",
       "count  860001.000000  860001.000000  860001.000000  860001.000000\n",
       "mean      243.461816     193.013263     103.894745     107.418773\n",
       "std       169.405320     119.673263     127.618042     114.852586\n",
       "min         0.000000       0.000000       0.230000       0.000000\n",
       "25%        99.240000     103.330000      23.210000      27.720000\n",
       "50%       230.820000     186.910000      54.140000      62.340000\n",
       "75%       370.500000     269.850000     128.500000     144.970000\n",
       "max       638.340000     635.130000     640.000000     640.000000"
      ]
     },
     "execution_count": 11,
     "metadata": {},
     "output_type": "execute_result"
    }
   ],
   "source": [
    "bbox_df = pd.DataFrame([x['bbox'] for x in ins_train['annotations']], columns=['x','y','width','height'])\n",
    "bbox_df.describe()"
   ]
  },
  {
   "cell_type": "code",
   "execution_count": 15,
   "metadata": {
    "ExecuteTime": {
     "end_time": "2021-07-23T14:31:59.797114Z",
     "start_time": "2021-07-23T14:31:59.525925Z"
    }
   },
   "outputs": [],
   "source": [
    "all_cats = [x['category_id'] for x in ins_train['annotations']]\n",
    "\n",
    "counts_label = Counter(all_cats).most_common()\n",
    "# print(f'class `person` is {round(262465 / 43867)}X bigger than class `car`')"
   ]
  },
  {
   "cell_type": "code",
   "execution_count": 16,
   "metadata": {
    "ExecuteTime": {
     "end_time": "2021-07-23T14:32:01.846183Z",
     "start_time": "2021-07-23T14:32:01.837831Z"
    }
   },
   "outputs": [],
   "source": [
    "def plot_counts(counts_label, title='COCO category counts'):\n",
    "    plt.figure(figsize=(17, 4))\n",
    "    x = [n[0] for n in counts_label]\n",
    "    x_labels = [category_mapping[n[0]] for n in counts_label]\n",
    "    y = [n[1] for n in counts_label]\n",
    "\n",
    "    plt.bar(x, y, color='green', align='center', width=0.9)\n",
    "    plt.title(title)\n",
    "    plt.xticks(x, x_labels, rotation='vertical')\n",
    "    plt.show()"
   ]
  },
  {
   "cell_type": "code",
   "execution_count": 17,
   "metadata": {
    "ExecuteTime": {
     "end_time": "2021-07-23T14:32:03.627686Z",
     "start_time": "2021-07-23T14:32:02.536047Z"
    }
   },
   "outputs": [
    {
     "data": {
      "image/png": "[encoded data removed]",
      "text/plain": [
       "<Figure size 1224x288 with 1 Axes>"
      ]
     },
     "metadata": {
      "needs_background": "light"
     },
     "output_type": "display_data"
    }
   ],
   "source": [
    "plot_counts(counts_label)"
   ]
  },
  {
   "cell_type": "code",
   "execution_count": 18,
   "metadata": {
    "ExecuteTime": {
     "end_time": "2021-07-23T14:32:07.147528Z",
     "start_time": "2021-07-23T14:32:05.924265Z"
    }
   },
   "outputs": [
    {
     "data": {
      "image/png": "[encoded data removed]",
      "text/plain": [
       "<Figure size 1224x288 with 1 Axes>"
      ]
     },
     "metadata": {
      "needs_background": "light"
     },
     "output_type": "display_data"
    }
   ],
   "source": [
    "plot_counts(counts_label[1:], title='COCO category counts without \"person\"')"
   ]
  },
  {
   "cell_type": "markdown",
   "metadata": {},
   "source": [
    "## `images`"
   ]
  },
  {
   "cell_type": "code",
   "execution_count": 20,
   "metadata": {
    "ExecuteTime": {
     "end_time": "2021-07-23T14:33:01.473216Z",
     "start_time": "2021-07-23T14:33:01.466624Z"
    }
   },
   "outputs": [
    {
     "data": {
      "text/plain": [
       "{'license': 3,\n",
       " 'file_name': '000000391895.jpg',\n",
       " 'coco_url': 'http://images.cocodataset.org/train2017/000000391895.jpg',\n",
       " 'height': 360,\n",
       " 'width': 640,\n",
       " 'date_captured': '2013-11-14 11:18:45',\n",
       " 'flickr_url': 'http://farm9.staticflickr.com/8186/8119368305_4e622c8349_z.jpg',\n",
       " 'id': 391895}"
      ]
     },
     "execution_count": 20,
     "metadata": {},
     "output_type": "execute_result"
    }
   ],
   "source": [
    "ins_train['images'][0]"
   ]
  },
  {
   "cell_type": "code",
   "execution_count": null,
   "metadata": {},
   "outputs": [],
   "source": []
  },
  {
   "cell_type": "code",
   "execution_count": 1,
   "metadata": {},
   "outputs": [],
   "source": [
    "def parse_line(text, keys_to_extract=['bbox', 'width', 'height', 'id']):\n",
    "    \"\"\"\n",
    "    turns a non quote json content to dict\n",
    "    eg:\n",
    "        'id: 0, height: 330, width: 1093, bbox:[69, 464, 312, 175],'\n",
    "        to\n",
    "        {'bbox': [69, 464, 312, 175], 'width': 1093, 'height': 330, 'id': 0}\n",
    "    Arguments:\n",
    "        text: str, the content to be extracted\n",
    "        keys_to_extract: list, the expected keys in the content, ⚠️ in reverse order!\n",
    "    Returns:\n",
    "        parsed_content: dict\n",
    "    \"\"\"\n",
    "    parsed_content = {}\n",
    "    start = None\n",
    "    for key_name in keys_to_extract:\n",
    "        stop, start = start, text.index(key_name)\n",
    "        content = text[start:stop].strip(', ')\n",
    "        k, v = [x.strip(' ') for x in content.split(':')]\n",
    "        parsed_content[k] = eval(v)\n",
    "    return parsed_content"
   ]
  },
  {
   "cell_type": "code",
   "execution_count": 2,
   "metadata": {
    "ExecuteTime": {
     "end_time": "2021-07-18T16:00:00.833470Z",
     "start_time": "2021-07-18T16:00:00.522149Z"
    }
   },
   "outputs": [],
   "source": [
    "with open('./sample_coco.txt', 'r') as f:\n",
    "    coco_data = [parse_line(x.strip()) for x in f.readlines()]"
   ]
  }
 ],
 "metadata": {
  "kernelspec": {
   "display_name": "Python3.8",
   "language": "python",
   "name": "python3.8"
  },
  "language_info": {
   "codemirror_mode": {
    "name": "ipython",
    "version": 3
   },
   "file_extension": ".py",
   "mimetype": "text/x-python",
   "name": "python",
   "nbconvert_exporter": "python",
   "pygments_lexer": "ipython3",
   "version": "3.8.2"
  }
 },
 "nbformat": 4,
 "nbformat_minor": 2
}
