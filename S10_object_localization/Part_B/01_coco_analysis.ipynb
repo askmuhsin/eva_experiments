{
 "cells": [
  {
   "cell_type": "code",
   "execution_count": 45,
   "metadata": {},
   "outputs": [],
   "source": [
    "import pandas as pd\n",
    "import json"
   ]
  },
  {
   "cell_type": "code",
   "execution_count": 46,
   "metadata": {},
   "outputs": [],
   "source": [
    "## checkout the README of this part to find out how the mapping was obtained\n",
    "with open('./category_mapping.json', 'r') as f:\n",
    "    category_mapping = json.load(f)"
   ]
  },
  {
   "cell_type": "code",
   "execution_count": 1,
   "metadata": {},
   "outputs": [],
   "source": [
    "def parse_line(text, keys_to_extract=['bbox', 'width', 'height', 'id']):\n",
    "    \"\"\"\n",
    "    turns a non quote json content to dict\n",
    "    eg:\n",
    "        'id: 0, height: 330, width: 1093, bbox:[69, 464, 312, 175],'\n",
    "        to\n",
    "        {'bbox': [69, 464, 312, 175], 'width': 1093, 'height': 330, 'id': 0}\n",
    "    Arguments:\n",
    "        text: str, the content to be extracted\n",
    "        keys_to_extract: list, the expected keys in the content, ⚠️ in reverse order!\n",
    "    Returns:\n",
    "        parsed_content: dict\n",
    "    \"\"\"\n",
    "    parsed_content = {}\n",
    "    start = None\n",
    "    for key_name in keys_to_extract:\n",
    "        stop, start = start, text.index(key_name)\n",
    "        content = text[start:stop].strip(', ')\n",
    "        k, v = [x.strip(' ') for x in content.split(':')]\n",
    "        parsed_content[k] = eval(v)\n",
    "    return parsed_content"
   ]
  },
  {
   "cell_type": "code",
   "execution_count": 2,
   "metadata": {
    "ExecuteTime": {
     "end_time": "2021-07-18T16:00:00.833470Z",
     "start_time": "2021-07-18T16:00:00.522149Z"
    }
   },
   "outputs": [],
   "source": [
    "with open('./sample_coco.txt', 'r') as f:\n",
    "    coco_data = [parse_line(x.strip()) for x in f.readlines()]"
   ]
  },
  {
   "cell_type": "code",
   "execution_count": 51,
   "metadata": {},
   "outputs": [
    {
     "name": "stdout",
     "output_type": "stream",
     "text": [
      "--2021-07-22 15:04:19--  http://images.cocodataset.org/annotations/annotations_trainval2014.zip\n",
      "Resolving images.cocodataset.org (images.cocodataset.org)... 52.217.168.9\n",
      "Connecting to images.cocodataset.org (images.cocodataset.org)|52.217.168.9|:80... connected.\n",
      "HTTP request sent, awaiting response... 200 OK\n",
      "Length: 252872794 (241M) [application/zip]\n",
      "Saving to: ‘annotations_trainval2014.zip’\n",
      "\n",
      "annotations_trainva 100%[===================>] 241.16M  9.36MB/s    in 27s     \n",
      "\n",
      "2021-07-22 15:05:02 (8.96 MB/s) - ‘annotations_trainval2014.zip’ saved [252872794/252872794]\n",
      "\n",
      "Archive:  annotations_trainval2014.zip\n",
      "  inflating: annotations/instances_train2014.json  \n",
      "  inflating: annotations/instances_val2014.json  \n",
      "  inflating: annotations/person_keypoints_train2014.json  \n",
      "  inflating: annotations/person_keypoints_val2014.json  \n",
      "  inflating: annotations/captions_train2014.json  \n",
      "  inflating: annotations/captions_val2014.json  \n"
     ]
    }
   ],
   "source": [
    "! wget http://images.cocodataset.org/annotations/annotations_trainval2014.zip\n",
    "! unzip annotations_trainval2014.zip"
   ]
  },
  {
   "cell_type": "code",
   "execution_count": 53,
   "metadata": {},
   "outputs": [],
   "source": [
    "with open('./annotations/instances_train2014.json', 'r') as f:\n",
    "    trian_val_ann = json.load(f)"
   ]
  },
  {
   "cell_type": "code",
   "execution_count": 54,
   "metadata": {},
   "outputs": [
    {
     "data": {
      "text/plain": [
       "dict_keys(['info', 'images', 'licenses', 'annotations', 'categories'])"
      ]
     },
     "execution_count": 54,
     "metadata": {},
     "output_type": "execute_result"
    }
   ],
   "source": [
    "trian_val_ann.keys()"
   ]
  },
  {
   "cell_type": "code",
   "execution_count": 64,
   "metadata": {},
   "outputs": [],
   "source": [
    "all_ids = [x['id'] for x in trian_val_ann['annotations']]"
   ]
  },
  {
   "cell_type": "code",
   "execution_count": 72,
   "metadata": {},
   "outputs": [
    {
     "data": {
      "text/plain": [
       "(604907, 604907)"
      ]
     },
     "execution_count": 72,
     "metadata": {},
     "output_type": "execute_result"
    }
   ],
   "source": [
    "len(all_ids), len(set(all_ids))"
   ]
  },
  {
   "cell_type": "code",
   "execution_count": 74,
   "metadata": {},
   "outputs": [
    {
     "data": {
      "text/plain": [
       "{'segmentation': [[312.29,\n",
       "   562.89,\n",
       "   402.25,\n",
       "   511.49,\n",
       "   400.96,\n",
       "   425.38,\n",
       "   398.39,\n",
       "   372.69,\n",
       "   388.11,\n",
       "   332.85,\n",
       "   318.71,\n",
       "   325.14,\n",
       "   295.58,\n",
       "   305.86,\n",
       "   269.88,\n",
       "   314.86,\n",
       "   258.31,\n",
       "   337.99,\n",
       "   217.19,\n",
       "   321.29,\n",
       "   182.49,\n",
       "   343.13,\n",
       "   141.37,\n",
       "   348.27,\n",
       "   132.37,\n",
       "   358.55,\n",
       "   159.36,\n",
       "   377.83,\n",
       "   116.95,\n",
       "   421.53,\n",
       "   167.07,\n",
       "   499.92,\n",
       "   232.61,\n",
       "   560.32,\n",
       "   300.72,\n",
       "   571.89]],\n",
       " 'area': 54652.9556,\n",
       " 'iscrowd': 0,\n",
       " 'image_id': 480023,\n",
       " 'bbox': [116.95, 305.86, 285.3, 266.03],\n",
       " 'category_id': 58,\n",
       " 'id': 86}"
      ]
     },
     "execution_count": 74,
     "metadata": {},
     "output_type": "execute_result"
    }
   ],
   "source": [
    "trian_val_ann['annotations'][0]"
   ]
  },
  {
   "cell_type": "code",
   "execution_count": 49,
   "metadata": {},
   "outputs": [
    {
     "ename": "KeyError",
     "evalue": "'70'",
     "output_type": "error",
     "traceback": [
      "\u001b[0;31m---------------------------------------------------------------------------\u001b[0m",
      "\u001b[0;31mKeyError\u001b[0m                                  Traceback (most recent call last)",
      "\u001b[0;32m<ipython-input-49-d685672fdbb1>\u001b[0m in \u001b[0;36m<module>\u001b[0;34m\u001b[0m\n\u001b[1;32m      1\u001b[0m \u001b[0mdf\u001b[0m \u001b[0;34m=\u001b[0m \u001b[0mpd\u001b[0m\u001b[0;34m.\u001b[0m\u001b[0mDataFrame\u001b[0m\u001b[0;34m(\u001b[0m\u001b[0mcoco_data\u001b[0m\u001b[0;34m)\u001b[0m\u001b[0;34m\u001b[0m\u001b[0;34m\u001b[0m\u001b[0m\n\u001b[1;32m      2\u001b[0m \u001b[0;34m\u001b[0m\u001b[0m\n\u001b[0;32m----> 3\u001b[0;31m \u001b[0mdf\u001b[0m\u001b[0;34m[\u001b[0m\u001b[0;34m'class_names'\u001b[0m\u001b[0;34m]\u001b[0m \u001b[0;34m=\u001b[0m \u001b[0mdf\u001b[0m\u001b[0;34m.\u001b[0m\u001b[0mid\u001b[0m\u001b[0;34m.\u001b[0m\u001b[0mapply\u001b[0m\u001b[0;34m(\u001b[0m\u001b[0;32mlambda\u001b[0m \u001b[0mx\u001b[0m\u001b[0;34m:\u001b[0m \u001b[0mcategory_mapping\u001b[0m\u001b[0;34m[\u001b[0m\u001b[0mstr\u001b[0m\u001b[0;34m(\u001b[0m\u001b[0mx\u001b[0m\u001b[0;34m)\u001b[0m\u001b[0;34m]\u001b[0m\u001b[0;34m)\u001b[0m\u001b[0;34m\u001b[0m\u001b[0;34m\u001b[0m\u001b[0m\n\u001b[0m",
      "\u001b[0;32m/data/safe/envs/py_38_env/lib/python3.8/site-packages/pandas/core/series.py\u001b[0m in \u001b[0;36mapply\u001b[0;34m(self, func, convert_dtype, args, **kwds)\u001b[0m\n\u001b[1;32m   4210\u001b[0m             \u001b[0;32melse\u001b[0m\u001b[0;34m:\u001b[0m\u001b[0;34m\u001b[0m\u001b[0;34m\u001b[0m\u001b[0m\n\u001b[1;32m   4211\u001b[0m                 \u001b[0mvalues\u001b[0m \u001b[0;34m=\u001b[0m \u001b[0mself\u001b[0m\u001b[0;34m.\u001b[0m\u001b[0mastype\u001b[0m\u001b[0;34m(\u001b[0m\u001b[0mobject\u001b[0m\u001b[0;34m)\u001b[0m\u001b[0;34m.\u001b[0m\u001b[0m_values\u001b[0m\u001b[0;34m\u001b[0m\u001b[0;34m\u001b[0m\u001b[0m\n\u001b[0;32m-> 4212\u001b[0;31m                 \u001b[0mmapped\u001b[0m \u001b[0;34m=\u001b[0m \u001b[0mlib\u001b[0m\u001b[0;34m.\u001b[0m\u001b[0mmap_infer\u001b[0m\u001b[0;34m(\u001b[0m\u001b[0mvalues\u001b[0m\u001b[0;34m,\u001b[0m \u001b[0mf\u001b[0m\u001b[0;34m,\u001b[0m \u001b[0mconvert\u001b[0m\u001b[0;34m=\u001b[0m\u001b[0mconvert_dtype\u001b[0m\u001b[0;34m)\u001b[0m\u001b[0;34m\u001b[0m\u001b[0;34m\u001b[0m\u001b[0m\n\u001b[0m\u001b[1;32m   4213\u001b[0m \u001b[0;34m\u001b[0m\u001b[0m\n\u001b[1;32m   4214\u001b[0m         \u001b[0;32mif\u001b[0m \u001b[0mlen\u001b[0m\u001b[0;34m(\u001b[0m\u001b[0mmapped\u001b[0m\u001b[0;34m)\u001b[0m \u001b[0;32mand\u001b[0m \u001b[0misinstance\u001b[0m\u001b[0;34m(\u001b[0m\u001b[0mmapped\u001b[0m\u001b[0;34m[\u001b[0m\u001b[0;36m0\u001b[0m\u001b[0;34m]\u001b[0m\u001b[0;34m,\u001b[0m \u001b[0mSeries\u001b[0m\u001b[0;34m)\u001b[0m\u001b[0;34m:\u001b[0m\u001b[0;34m\u001b[0m\u001b[0;34m\u001b[0m\u001b[0m\n",
      "\u001b[0;32mpandas/_libs/lib.pyx\u001b[0m in \u001b[0;36mpandas._libs.lib.map_infer\u001b[0;34m()\u001b[0m\n",
      "\u001b[0;32m<ipython-input-49-d685672fdbb1>\u001b[0m in \u001b[0;36m<lambda>\u001b[0;34m(x)\u001b[0m\n\u001b[1;32m      1\u001b[0m \u001b[0mdf\u001b[0m \u001b[0;34m=\u001b[0m \u001b[0mpd\u001b[0m\u001b[0;34m.\u001b[0m\u001b[0mDataFrame\u001b[0m\u001b[0;34m(\u001b[0m\u001b[0mcoco_data\u001b[0m\u001b[0;34m)\u001b[0m\u001b[0;34m\u001b[0m\u001b[0;34m\u001b[0m\u001b[0m\n\u001b[1;32m      2\u001b[0m \u001b[0;34m\u001b[0m\u001b[0m\n\u001b[0;32m----> 3\u001b[0;31m \u001b[0mdf\u001b[0m\u001b[0;34m[\u001b[0m\u001b[0;34m'class_names'\u001b[0m\u001b[0;34m]\u001b[0m \u001b[0;34m=\u001b[0m \u001b[0mdf\u001b[0m\u001b[0;34m.\u001b[0m\u001b[0mid\u001b[0m\u001b[0;34m.\u001b[0m\u001b[0mapply\u001b[0m\u001b[0;34m(\u001b[0m\u001b[0;32mlambda\u001b[0m \u001b[0mx\u001b[0m\u001b[0;34m:\u001b[0m \u001b[0mcategory_mapping\u001b[0m\u001b[0;34m[\u001b[0m\u001b[0mstr\u001b[0m\u001b[0;34m(\u001b[0m\u001b[0mx\u001b[0m\u001b[0;34m)\u001b[0m\u001b[0;34m]\u001b[0m\u001b[0;34m)\u001b[0m\u001b[0;34m\u001b[0m\u001b[0;34m\u001b[0m\u001b[0m\n\u001b[0m",
      "\u001b[0;31mKeyError\u001b[0m: '70'"
     ]
    }
   ],
   "source": [
    "df = pd.DataFrame(coco_data)\n",
    "\n",
    "df['class_names'] = df.id.apply(lambda x: category_mapping[str(x)])"
   ]
  },
  {
   "cell_type": "code",
   "execution_count": 50,
   "metadata": {},
   "outputs": [
    {
     "data": {
      "text/plain": [
       "{'0': 'person',\n",
       " '1': 'bicycle',\n",
       " '2': 'car',\n",
       " '3': 'motorcycle',\n",
       " '4': 'airplane',\n",
       " '5': 'bus',\n",
       " '6': 'train',\n",
       " '7': 'truck',\n",
       " '8': 'boat',\n",
       " '9': 'traffic light',\n",
       " '10': 'fire hydrant',\n",
       " '12': 'stop sign',\n",
       " '13': 'parking meter',\n",
       " '14': 'bench',\n",
       " '15': 'bird',\n",
       " '16': 'cat',\n",
       " '17': 'dog',\n",
       " '18': 'horse',\n",
       " '19': 'sheep',\n",
       " '20': 'cow',\n",
       " '21': 'elephant',\n",
       " '22': 'bear',\n",
       " '23': 'zebra',\n",
       " '24': 'giraffe',\n",
       " '26': 'backpack',\n",
       " '27': 'umbrella',\n",
       " '30': 'handbag',\n",
       " '31': 'tie',\n",
       " '32': 'suitcase',\n",
       " '33': 'frisbee',\n",
       " '34': 'skis',\n",
       " '35': 'snowboard',\n",
       " '36': 'sports ball',\n",
       " '37': 'kite',\n",
       " '38': 'baseball bat',\n",
       " '39': 'baseball glove',\n",
       " '40': 'skateboard',\n",
       " '41': 'surfboard',\n",
       " '42': 'tennis racket',\n",
       " '43': 'bottle',\n",
       " '45': 'wine glass',\n",
       " '46': 'cup',\n",
       " '47': 'fork',\n",
       " '48': 'knife',\n",
       " '49': 'spoon',\n",
       " '50': 'bowl',\n",
       " '51': 'banana',\n",
       " '52': 'apple',\n",
       " '53': 'sandwich',\n",
       " '54': 'orange',\n",
       " '55': 'broccoli',\n",
       " '56': 'carrot',\n",
       " '57': 'hot dog',\n",
       " '58': 'pizza',\n",
       " '59': 'donut',\n",
       " '60': 'cake',\n",
       " '61': 'chair',\n",
       " '62': 'couch',\n",
       " '63': 'potted plant',\n",
       " '64': 'bed',\n",
       " '66': 'dining table',\n",
       " '69': 'toilet',\n",
       " '71': 'tv',\n",
       " '72': 'laptop',\n",
       " '73': 'mouse',\n",
       " '74': 'remote',\n",
       " '75': 'keyboard',\n",
       " '76': 'cell phone',\n",
       " '77': 'microwave',\n",
       " '78': 'oven',\n",
       " '79': 'toaster',\n",
       " '80': 'sink',\n",
       " '81': 'refrigerator',\n",
       " '83': 'book',\n",
       " '84': 'clock',\n",
       " '85': 'vase',\n",
       " '86': 'scissors',\n",
       " '87': 'teddy bear',\n",
       " '88': 'hair drier',\n",
       " '89': 'toothbrush'}"
      ]
     },
     "execution_count": 50,
     "metadata": {},
     "output_type": "execute_result"
    }
   ],
   "source": [
    "category_mapping"
   ]
  },
  {
   "cell_type": "code",
   "execution_count": null,
   "metadata": {},
   "outputs": [],
   "source": []
  }
 ],
 "metadata": {
  "kernelspec": {
   "display_name": "Python3.8",
   "language": "python",
   "name": "python3.8"
  },
  "language_info": {
   "codemirror_mode": {
    "name": "ipython",
    "version": 3
   },
   "file_extension": ".py",
   "mimetype": "text/x-python",
   "name": "python",
   "nbconvert_exporter": "python",
   "pygments_lexer": "ipython3",
   "version": "3.8.2"
  }
 },
 "nbformat": 4,
 "nbformat_minor": 2
}
