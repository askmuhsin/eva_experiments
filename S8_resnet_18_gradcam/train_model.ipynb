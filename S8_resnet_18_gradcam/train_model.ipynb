{
 "cells": [
  {
   "cell_type": "code",
   "execution_count": 1,
   "metadata": {
    "ExecuteTime": {
     "end_time": "2021-07-16T05:49:13.525406Z",
     "start_time": "2021-07-16T05:49:13.488569Z"
    }
   },
   "outputs": [],
   "source": [
    "%load_ext autoreload\n",
    "%autoreload 2"
   ]
  },
  {
   "cell_type": "code",
   "execution_count": 3,
   "metadata": {
    "ExecuteTime": {
     "end_time": "2021-07-16T05:49:48.422581Z",
     "start_time": "2021-07-16T05:49:43.057052Z"
    }
   },
   "outputs": [
    {
     "name": "stdout",
     "output_type": "stream",
     "text": [
      "Cloning into 'eva_training_flow'...\n",
      "remote: Enumerating objects: 121, done.\u001b[K\n",
      "remote: Counting objects: 100% (121/121), done.\u001b[K\n",
      "remote: Compressing objects: 100% (74/74), done.\u001b[K\n",
      "remote: Total 121 (delta 64), reused 85 (delta 37), pack-reused 0\u001b[K\n",
      "Receiving objects: 100% (121/121), 382.79 KiB | 0 bytes/s, done.\n",
      "Resolving deltas: 100% (64/64), done.\n",
      "Checking connectivity... done.\n"
     ]
    }
   ],
   "source": [
    "! git clone https://github.com/askmuhsin/eva_training_flow"
   ]
  },
  {
   "cell_type": "code",
   "execution_count": 4,
   "metadata": {
    "ExecuteTime": {
     "end_time": "2021-07-16T05:50:00.109704Z",
     "start_time": "2021-07-16T05:50:00.098869Z"
    }
   },
   "outputs": [],
   "source": [
    "import sys\n",
    "sys.path.append('./eva_training_flow/')"
   ]
  },
  {
   "cell_type": "code",
   "execution_count": 5,
   "metadata": {
    "ExecuteTime": {
     "end_time": "2021-07-16T05:50:05.688254Z",
     "start_time": "2021-07-16T05:50:03.808191Z"
    }
   },
   "outputs": [
    {
     "name": "stdout",
     "output_type": "stream",
     "text": [
      "CUDA environment device set to 1\n"
     ]
    }
   ],
   "source": [
    "from ds_toolkit.general_utils.gpu_utils import addGPU\n",
    "addGPU()"
   ]
  },
  {
   "cell_type": "code",
   "execution_count": 6,
   "metadata": {
    "ExecuteTime": {
     "end_time": "2021-07-16T05:50:10.986817Z",
     "start_time": "2021-07-16T05:50:06.443159Z"
    }
   },
   "outputs": [
    {
     "name": "stdout",
     "output_type": "stream",
     "text": [
      "[INFO] seed set 1\n",
      "[INFO] Cuda Avaliable :  True\n",
      "[INFO] device :  cuda\n"
     ]
    }
   ],
   "source": [
    "from main import Trainer, show_misclassification\n",
    "from models import resnet_v2_6ch_ending\n",
    "\n",
    "try:\n",
    "    import wandb\n",
    "except ModuleNotFoundError as e:\n",
    "    print(e, 'Logging module failed to import !')\n",
    "\n",
    "epochs = 40"
   ]
  },
  {
   "cell_type": "markdown",
   "metadata": {},
   "source": [
    "## Resnet with 6X6 channel size ending"
   ]
  },
  {
   "cell_type": "code",
   "execution_count": 7,
   "metadata": {
    "ExecuteTime": {
     "end_time": "2021-07-16T05:51:07.169657Z",
     "start_time": "2021-07-16T05:50:16.731304Z"
    }
   },
   "outputs": [
    {
     "name": "stdout",
     "output_type": "stream",
     "text": [
      "[INFO] Loading Data\n",
      "Downloading https://www.cs.toronto.edu/~kriz/cifar-10-python.tar.gz to ./data/cifar-10-python.tar.gz\n"
     ]
    },
    {
     "data": {
      "application/vnd.jupyter.widget-view+json": {
       "model_id": "c13c2abd1a334d93a8375f2416d791f5",
       "version_major": 2,
       "version_minor": 0
      },
      "text/plain": [
       "HBox(children=(FloatProgress(value=0.0, max=170498071.0), HTML(value='')))"
      ]
     },
     "metadata": {},
     "output_type": "display_data"
    },
    {
     "name": "stdout",
     "output_type": "stream",
     "text": [
      "\n",
      "Extracting ./data/cifar-10-python.tar.gz to ./data\n",
      "[INFO] train dataset of size 50000 loaded...\n",
      "Files already downloaded and verified\n",
      "[INFO] test dataset of size 10000 loaded...\n",
      "Files already downloaded and verified\n",
      "[INFO] test dataset of size 10000 loaded...\n",
      "----------------------------------------------------------------\n",
      "        Layer (type)               Output Shape         Param #\n",
      "================================================================\n",
      "            Conv2d-1           [-1, 64, 28, 28]           1,728\n",
      "       BatchNorm2d-2           [-1, 64, 28, 28]             128\n",
      "            Conv2d-3           [-1, 64, 28, 28]          36,864\n",
      "       BatchNorm2d-4           [-1, 64, 28, 28]             128\n",
      "            Conv2d-5           [-1, 64, 28, 28]          36,864\n",
      "       BatchNorm2d-6           [-1, 64, 28, 28]             128\n",
      "        BasicBlock-7           [-1, 64, 28, 28]               0\n",
      "            Conv2d-8           [-1, 64, 28, 28]          36,864\n",
      "       BatchNorm2d-9           [-1, 64, 28, 28]             128\n",
      "           Conv2d-10           [-1, 64, 28, 28]          36,864\n",
      "      BatchNorm2d-11           [-1, 64, 28, 28]             128\n",
      "       BasicBlock-12           [-1, 64, 28, 28]               0\n",
      "           Conv2d-13          [-1, 128, 15, 15]          73,728\n",
      "      BatchNorm2d-14          [-1, 128, 15, 15]             256\n",
      "           Conv2d-15          [-1, 128, 15, 15]         147,456\n",
      "      BatchNorm2d-16          [-1, 128, 15, 15]             256\n",
      "           Conv2d-17          [-1, 128, 15, 15]           8,192\n",
      "      BatchNorm2d-18          [-1, 128, 15, 15]             256\n",
      "       BasicBlock-19          [-1, 128, 15, 15]               0\n",
      "           Conv2d-20          [-1, 128, 15, 15]         147,456\n",
      "      BatchNorm2d-21          [-1, 128, 15, 15]             256\n",
      "           Conv2d-22          [-1, 128, 15, 15]         147,456\n",
      "      BatchNorm2d-23          [-1, 128, 15, 15]             256\n",
      "       BasicBlock-24          [-1, 128, 15, 15]               0\n",
      "           Conv2d-25            [-1, 256, 9, 9]         294,912\n",
      "      BatchNorm2d-26            [-1, 256, 9, 9]             512\n",
      "           Conv2d-27            [-1, 256, 9, 9]         589,824\n",
      "      BatchNorm2d-28            [-1, 256, 9, 9]             512\n",
      "           Conv2d-29            [-1, 256, 9, 9]          32,768\n",
      "      BatchNorm2d-30            [-1, 256, 9, 9]             512\n",
      "       BasicBlock-31            [-1, 256, 9, 9]               0\n",
      "           Conv2d-32            [-1, 256, 9, 9]         589,824\n",
      "      BatchNorm2d-33            [-1, 256, 9, 9]             512\n",
      "           Conv2d-34            [-1, 256, 9, 9]         589,824\n",
      "      BatchNorm2d-35            [-1, 256, 9, 9]             512\n",
      "       BasicBlock-36            [-1, 256, 9, 9]               0\n",
      "           Conv2d-37            [-1, 512, 6, 6]       1,179,648\n",
      "      BatchNorm2d-38            [-1, 512, 6, 6]           1,024\n",
      "           Conv2d-39            [-1, 512, 6, 6]       2,359,296\n",
      "      BatchNorm2d-40            [-1, 512, 6, 6]           1,024\n",
      "           Conv2d-41            [-1, 512, 6, 6]         131,072\n",
      "      BatchNorm2d-42            [-1, 512, 6, 6]           1,024\n",
      "       BasicBlock-43            [-1, 512, 6, 6]               0\n",
      "           Conv2d-44            [-1, 512, 6, 6]       2,359,296\n",
      "      BatchNorm2d-45            [-1, 512, 6, 6]           1,024\n",
      "           Conv2d-46            [-1, 512, 6, 6]       2,359,296\n",
      "      BatchNorm2d-47            [-1, 512, 6, 6]           1,024\n",
      "       BasicBlock-48            [-1, 512, 6, 6]               0\n",
      "           Linear-49                   [-1, 10]           5,130\n",
      "================================================================\n",
      "Total params: 11,173,962\n",
      "Trainable params: 11,173,962\n",
      "Non-trainable params: 0\n",
      "----------------------------------------------------------------\n",
      "Input size (MB): 0.01\n",
      "Forward/backward pass size (MB): 10.82\n",
      "Params size (MB): 42.63\n",
      "Estimated Total Size (MB): 53.45\n",
      "----------------------------------------------------------------\n",
      "TEST         Loss:0.0182         Acc:9.99         [999 / 10000]\n"
     ]
    }
   ],
   "source": [
    "trainer = Trainer(\n",
    "    resnet_v2_6ch_ending.ResNet18(),\n",
    "#     model_path='../data/model_state/R18_6_channel_with_augmentation_3_repeat.pt'\n",
    ")"
   ]
  },
  {
   "cell_type": "code",
   "execution_count": 8,
   "metadata": {
    "ExecuteTime": {
     "end_time": "2021-07-16T05:54:41.267198Z",
     "start_time": "2021-07-16T05:53:26.538672Z"
    }
   },
   "outputs": [
    {
     "name": "stderr",
     "output_type": "stream",
     "text": [
      "\r",
      "  0%|          | 0/391 [00:00<?, ?it/s]"
     ]
    },
    {
     "name": "stdout",
     "output_type": "stream",
     "text": [
      "[INFO] Begin training for 2 epochs\n"
     ]
    },
    {
     "name": "stderr",
     "output_type": "stream",
     "text": [
      "TRAIN Epoch:0 Loss:1.1128 Batch:390 Acc:46.18: 100%|██████████| 391/391 [00:34<00:00, 11.34it/s]\n",
      "  0%|          | 0/391 [00:00<?, ?it/s]"
     ]
    },
    {
     "name": "stdout",
     "output_type": "stream",
     "text": [
      "TEST         Loss:0.0097         Acc:56.29         [5629 / 10000]\n"
     ]
    },
    {
     "name": "stderr",
     "output_type": "stream",
     "text": [
      "TRAIN Epoch:1 Loss:0.8112 Batch:390 Acc:63.57: 100%|██████████| 391/391 [00:35<00:00, 11.11it/s]\n"
     ]
    },
    {
     "name": "stdout",
     "output_type": "stream",
     "text": [
      "TEST         Loss:0.0079         Acc:65.55         [6555 / 10000]\n"
     ]
    }
   ],
   "source": [
    "trainer.train_model(epochs=2)"
   ]
  },
  {
   "cell_type": "code",
   "execution_count": null,
   "metadata": {
    "ExecuteTime": {
     "start_time": "2021-07-16T05:56:41.160Z"
    },
    "scrolled": false
   },
   "outputs": [
    {
     "name": "stdout",
     "output_type": "stream",
     "text": [
      "[INFO] device :  cuda\n"
     ]
    },
    {
     "name": "stderr",
     "output_type": "stream",
     "text": [
      "Generating sample predictions: 79it [00:03, 20.66it/s]\n"
     ]
    }
   ],
   "source": [
    "show_misclassification(trainer)"
   ]
  },
  {
   "cell_type": "code",
   "execution_count": null,
   "metadata": {},
   "outputs": [],
   "source": []
  }
 ],
 "metadata": {
  "kernelspec": {
   "display_name": "Python3.6",
   "language": "python",
   "name": "python3.6"
  },
  "language_info": {
   "codemirror_mode": {
    "name": "ipython",
    "version": 3
   },
   "file_extension": ".py",
   "mimetype": "text/x-python",
   "name": "python",
   "nbconvert_exporter": "python",
   "pygments_lexer": "ipython3",
   "version": "3.6.12"
  }
 },
 "nbformat": 4,
 "nbformat_minor": 2
}
